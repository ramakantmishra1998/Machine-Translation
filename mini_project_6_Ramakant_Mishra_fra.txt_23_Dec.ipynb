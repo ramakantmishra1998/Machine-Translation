{
 "cells": [
  {
   "cell_type": "markdown",
   "id": "487c4515",
   "metadata": {},
   "source": [
    "### Import the Required Libraries"
   ]
  },
  {
   "cell_type": "code",
   "execution_count": 2,
   "id": "dd5cf103",
   "metadata": {},
   "outputs": [],
   "source": [
    "import string\n",
    "import re\n",
    "import numpy as np\n",
    "from numpy import array, argmax, random, take\n",
    "import pandas as pd\n",
    "import tensorflow as tf\n",
    "from tensorflow.keras.models import Sequential\n",
    "from tensorflow.keras.layers import Dense, LSTM, Embedding, RepeatVector\n",
    "from tensorflow.keras.preprocessing.text import Tokenizer\n",
    "from tensorflow.keras.callbacks import ModelCheckpoint\n",
    "from tensorflow.keras.preprocessing.sequence import pad_sequences\n",
    "from tensorflow.keras.models import load_model\n",
    "from tensorflow.keras import optimizers\n",
    "import matplotlib.pyplot as plt\n",
    "pd.set_option('display.max_colwidth', 200)"
   ]
  },
  {
   "cell_type": "markdown",
   "id": "a0b11de2",
   "metadata": {},
   "source": [
    "### Load the Data"
   ]
  },
  {
   "cell_type": "code",
   "execution_count": 3,
   "id": "72bc6e9f",
   "metadata": {},
   "outputs": [],
   "source": [
    "def read_text(filename):\n",
    "    file = open(filename, mode='rt' , encoding ='utf-8')\n",
    "    \n",
    "    text = file.read()\n",
    "    file.close()\n",
    "    return text"
   ]
  },
  {
   "cell_type": "code",
   "execution_count": 4,
   "id": "433beeeb",
   "metadata": {},
   "outputs": [],
   "source": [
    "def to_lines(text):\n",
    "    sents = text.strip().split('\\n')\n",
    "    sents = [i.split('\\t') for i in sents]\n",
    "    return sents"
   ]
  },
  {
   "cell_type": "code",
   "execution_count": 5,
   "id": "579402d6",
   "metadata": {},
   "outputs": [],
   "source": [
    "data = read_text(\"./fra.txt\")\n",
    "fra_eng = to_lines(data)\n",
    "fra_eng = array(fra_eng)"
   ]
  },
  {
   "cell_type": "code",
   "execution_count": 6,
   "id": "0a6a1fde",
   "metadata": {},
   "outputs": [],
   "source": [
    "fra_eng = fra_eng[:50000,:]"
   ]
  },
  {
   "cell_type": "markdown",
   "id": "fac9d084",
   "metadata": {},
   "source": [
    "### Text Cleaning / Prepocessing"
   ]
  },
  {
   "cell_type": "code",
   "execution_count": 7,
   "id": "9fc33c11",
   "metadata": {},
   "outputs": [
    {
     "data": {
      "text/plain": [
       "array([['Go', 'Va ',\n",
       "        'CC-BY 2.0 (France) Attribution: tatoeba.org #2877272 (CM) & #1158250 (Wittydev)'],\n",
       "       ['Go', 'Marche',\n",
       "        'CC-BY 2.0 (France) Attribution: tatoeba.org #2877272 (CM) & #8090732 (Micsmithel)'],\n",
       "       ['Go', 'Bouge ',\n",
       "        'CC-BY 2.0 (France) Attribution: tatoeba.org #2877272 (CM) & #9022935 (Micsmithel)'],\n",
       "       ...,\n",
       "       ['Tom liked what he saw', 'Tom a aimé ce quil a vu',\n",
       "        'CC-BY 2.0 (France) Attribution: tatoeba.org #3729268 (CM) & #5619279 (Aiji)'],\n",
       "       ['Tom liked what he saw', 'Tom aima ce quil vit',\n",
       "        'CC-BY 2.0 (France) Attribution: tatoeba.org #3729268 (CM) & #5619280 (Aiji)'],\n",
       "       ['Tom likes skiing too', 'Tom aussi aime skier',\n",
       "        'CC-BY 2.0 (France) Attribution: tatoeba.org #2869208 (CK) & #5591397 (Aiji)']],\n",
       "      dtype='<U325')"
      ]
     },
     "execution_count": 7,
     "metadata": {},
     "output_type": "execute_result"
    }
   ],
   "source": [
    "# Remove punctuation\n",
    "fra_eng[:,0] = [s.translate(str.maketrans('', '', string.punctuation)) for s in fra_eng[:,0]]\n",
    "fra_eng[:,1] = [s.translate(str.maketrans('', '', string.punctuation)) for s in fra_eng[:,1]]\n",
    "\n",
    "fra_eng"
   ]
  },
  {
   "cell_type": "code",
   "execution_count": 8,
   "id": "9d40eb40",
   "metadata": {},
   "outputs": [],
   "source": [
    "for i in range(len(fra_eng)):\n",
    "    fra_eng[i,0] = fra_eng[i,0].lower()\n",
    "    fra_eng[i,1] = fra_eng[i,1].lower()"
   ]
  },
  {
   "cell_type": "code",
   "execution_count": 9,
   "id": "a15c3df8",
   "metadata": {},
   "outputs": [
    {
     "data": {
      "image/png": "[encoded data removed]",
      "text/plain": [
       "<Figure size 864x360 with 2 Axes>"
      ]
     },
     "metadata": {
      "needs_background": "light"
     },
     "output_type": "display_data"
    }
   ],
   "source": [
    "eng_l = []\n",
    "fra_l = []\n",
    "\n",
    "for i in fra_eng[:,0]:\n",
    "      eng_l.append(len(i.split()))\n",
    "\n",
    "for i in fra_eng[:,1]:\n",
    "      fra_l.append(len(i.split()))\n",
    "\n",
    "length_df = pd.DataFrame({'eng':eng_l, 'fra':fra_l})\n",
    "\n",
    "length_df.hist(bins = 30, edgecolor='k', figsize = (12,5))\n",
    "plt.show()"
   ]
  },
  {
   "cell_type": "code",
   "execution_count": 10,
   "id": "c2f2d1d8",
   "metadata": {},
   "outputs": [],
   "source": [
    "def tokenization(lines):\n",
    "    tokenizer = Tokenizer()\n",
    "    tokenizer.fit_on_texts(lines)\n",
    "    return tokenizer"
   ]
  },
  {
   "cell_type": "code",
   "execution_count": 11,
   "id": "9262614d",
   "metadata": {},
   "outputs": [
    {
     "name": "stdout",
     "output_type": "stream",
     "text": [
      "English Vocabulary Size: 6042\n"
     ]
    }
   ],
   "source": [
    "eng_tokenizer = tokenization(fra_eng[:, 0])\n",
    "eng_vocab_size = len(eng_tokenizer.word_index) + 1\n",
    "\n",
    "eng_length = 8\n",
    "print('English Vocabulary Size: %d' % eng_vocab_size)"
   ]
  },
  {
   "cell_type": "code",
   "execution_count": 12,
   "id": "6a9ec669",
   "metadata": {},
   "outputs": [
    {
     "data": {
      "text/plain": [
       "{1: 'i',\n",
       " 2: 'you',\n",
       " 3: 'a',\n",
       " 4: 'is',\n",
       " 5: 'tom',\n",
       " 6: 'it',\n",
       " 7: 'the',\n",
       " 8: 'to',\n",
       " 9: 'im',\n",
       " 10: 'he',\n",
       " 11: 'this',\n",
       " 12: 'me',\n",
       " 13: 'that',\n",
       " 14: 'are',\n",
       " 15: 'do',\n",
       " 16: 'youre',\n",
       " 17: 'was',\n",
       " 18: 'we',\n",
       " 19: 'have',\n",
       " 20: 'my',\n",
       " 21: 'your',\n",
       " 22: 'dont',\n",
       " 23: 'not',\n",
       " 24: 'were',\n",
       " 25: 'its',\n",
       " 26: 'they',\n",
       " 27: 'go',\n",
       " 28: 'be',\n",
       " 29: 'did',\n",
       " 30: 'can',\n",
       " 31: 'all',\n",
       " 32: 'she',\n",
       " 33: 'like',\n",
       " 34: 'no',\n",
       " 35: 'in',\n",
       " 36: 'what',\n",
       " 37: 'very',\n",
       " 38: 'of',\n",
       " 39: 'here',\n",
       " 40: 'want',\n",
       " 41: 'how',\n",
       " 42: 'ill',\n",
       " 43: 'on',\n",
       " 44: 'thats',\n",
       " 45: 'get',\n",
       " 46: 'cant',\n",
       " 47: 'need',\n",
       " 48: 'know',\n",
       " 49: 'up',\n",
       " 50: 'one',\n",
       " 51: 'for',\n",
       " 52: 'him',\n",
       " 53: 'out',\n",
       " 54: 'so',\n",
       " 55: 'good',\n",
       " 56: 'at',\n",
       " 57: 'now',\n",
       " 58: 'just',\n",
       " 59: 'please',\n",
       " 60: 'has',\n",
       " 61: 'there',\n",
       " 62: 'theyre',\n",
       " 63: 'too',\n",
       " 64: 'love',\n",
       " 65: 'help',\n",
       " 66: 'come',\n",
       " 67: 'us',\n",
       " 68: 'why',\n",
       " 69: 'got',\n",
       " 70: 'look',\n",
       " 71: 'who',\n",
       " 72: 'hes',\n",
       " 73: 'lets',\n",
       " 74: 'will',\n",
       " 75: 'take',\n",
       " 76: 'his',\n",
       " 77: 'see',\n",
       " 78: 'let',\n",
       " 79: 'well',\n",
       " 80: 'am',\n",
       " 81: 'think',\n",
       " 82: 'had',\n",
       " 83: 'an',\n",
       " 84: 'with',\n",
       " 85: 'home',\n",
       " 86: 'her',\n",
       " 87: 'didnt',\n",
       " 88: 'stop',\n",
       " 89: 'back',\n",
       " 90: 'really',\n",
       " 91: 'happy',\n",
       " 92: 'give',\n",
       " 93: 'right',\n",
       " 94: 'must',\n",
       " 95: 'feel',\n",
       " 96: 'made',\n",
       " 97: 'ive',\n",
       " 98: 'still',\n",
       " 99: 'keep',\n",
       " 100: 'work',\n",
       " 101: 'try',\n",
       " 102: 'them',\n",
       " 103: 'car',\n",
       " 104: 'where',\n",
       " 105: 'toms',\n",
       " 106: 'never',\n",
       " 107: 'alone',\n",
       " 108: 'going',\n",
       " 109: 'leave',\n",
       " 110: 'may',\n",
       " 111: 'time',\n",
       " 112: 'looks',\n",
       " 113: 'eat',\n",
       " 114: 'saw',\n",
       " 115: 'busy',\n",
       " 116: 'whats',\n",
       " 117: 'about',\n",
       " 118: 'french',\n",
       " 119: 'mary',\n",
       " 120: 'isnt',\n",
       " 121: 'stay',\n",
       " 122: 'down',\n",
       " 123: 'big',\n",
       " 124: 'lost',\n",
       " 125: 'dog',\n",
       " 126: 'make',\n",
       " 127: 'tell',\n",
       " 128: 'again',\n",
       " 129: 'went',\n",
       " 130: 'does',\n",
       " 131: 'should',\n",
       " 132: 'ready',\n",
       " 133: 'wont',\n",
       " 134: 'bad',\n",
       " 135: 'job',\n",
       " 136: 'some',\n",
       " 137: 'off',\n",
       " 138: 'hate',\n",
       " 139: 'say',\n",
       " 140: 'felt',\n",
       " 141: 'old',\n",
       " 142: 'today',\n",
       " 143: 'drink',\n",
       " 144: 'could',\n",
       " 145: 'much',\n",
       " 146: 'away',\n",
       " 147: 'everyone',\n",
       " 148: 'tired',\n",
       " 149: 'book',\n",
       " 150: 'lot',\n",
       " 151: 'wait',\n",
       " 152: 'nice',\n",
       " 153: 'money',\n",
       " 154: 'room',\n",
       " 155: 'left',\n",
       " 156: 'call',\n",
       " 157: 'new',\n",
       " 158: 'our',\n",
       " 159: 'door',\n",
       " 160: 'enough',\n",
       " 161: 'hear',\n",
       " 162: 'talk',\n",
       " 163: 'hurt',\n",
       " 164: 'fun',\n",
       " 165: 'wrong',\n",
       " 166: 'seems',\n",
       " 167: 'day',\n",
       " 168: 'way',\n",
       " 169: 'said',\n",
       " 170: 'done',\n",
       " 171: 'sure',\n",
       " 172: 'hard',\n",
       " 173: 'been',\n",
       " 174: 'find',\n",
       " 175: 'open',\n",
       " 176: 'id',\n",
       " 177: 'house',\n",
       " 178: 'over',\n",
       " 179: 'wheres',\n",
       " 180: 'shes',\n",
       " 181: 'wasnt',\n",
       " 182: 'mine',\n",
       " 183: 'gave',\n",
       " 184: 'everybody',\n",
       " 185: 'speak',\n",
       " 186: 'likes',\n",
       " 187: 'came',\n",
       " 188: 'kept',\n",
       " 189: 'safe',\n",
       " 190: 'bed',\n",
       " 191: 'hope',\n",
       " 192: 'live',\n",
       " 193: 'everything',\n",
       " 194: 'late',\n",
       " 195: 'read',\n",
       " 196: 'water',\n",
       " 197: 'friends',\n",
       " 198: 'more',\n",
       " 199: 'these',\n",
       " 200: 'idea',\n",
       " 201: 'man',\n",
       " 202: 'better',\n",
       " 203: 'nobody',\n",
       " 204: 'watch',\n",
       " 205: 'easy',\n",
       " 206: 'anyone',\n",
       " 207: 'found',\n",
       " 208: 'play',\n",
       " 209: 'ask',\n",
       " 210: 'sorry',\n",
       " 211: 'friend',\n",
       " 212: 'would',\n",
       " 213: 'yet',\n",
       " 214: 'funny',\n",
       " 215: 'nothing',\n",
       " 216: 'both',\n",
       " 217: 'cold',\n",
       " 218: 'turn',\n",
       " 219: 'something',\n",
       " 220: 'theres',\n",
       " 221: 'whos',\n",
       " 222: 'when',\n",
       " 223: 'broke',\n",
       " 224: 'yours',\n",
       " 225: 'show',\n",
       " 226: 'put',\n",
       " 227: 'great',\n",
       " 228: 'trust',\n",
       " 229: 'long',\n",
       " 230: 'true',\n",
       " 231: 'sleep',\n",
       " 232: 'teacher',\n",
       " 233: 'knew',\n",
       " 234: 'hungry',\n",
       " 235: 'gone',\n",
       " 236: 'heard',\n",
       " 237: 'as',\n",
       " 238: 'died',\n",
       " 239: 'careful',\n",
       " 240: 'by',\n",
       " 241: 'life',\n",
       " 242: 'loves',\n",
       " 243: 'and',\n",
       " 244: 'remember',\n",
       " 245: 'buy',\n",
       " 246: 'run',\n",
       " 247: 'ok',\n",
       " 248: 'sick',\n",
       " 249: 'hurry',\n",
       " 250: 'only',\n",
       " 251: 'sit',\n",
       " 252: 'problem',\n",
       " 253: 'coming',\n",
       " 254: 'youve',\n",
       " 255: 'win',\n",
       " 256: 'took',\n",
       " 257: 'cat',\n",
       " 258: 'knows',\n",
       " 259: 'school',\n",
       " 260: 'already',\n",
       " 261: 'doing',\n",
       " 262: 'pay',\n",
       " 263: 'fast',\n",
       " 264: 'crazy',\n",
       " 265: 'close',\n",
       " 266: 'doesnt',\n",
       " 267: 'being',\n",
       " 268: 'kind',\n",
       " 269: 'anybody',\n",
       " 270: 'miss',\n",
       " 271: 'boy',\n",
       " 272: 'best',\n",
       " 273: 'always',\n",
       " 274: 'angry',\n",
       " 275: 'started',\n",
       " 276: 'anything',\n",
       " 277: 'believe',\n",
       " 278: 'wanted',\n",
       " 279: 'dead',\n",
       " 280: 'told',\n",
       " 281: 'name',\n",
       " 282: 'forget',\n",
       " 283: 'eyes',\n",
       " 284: 'die',\n",
       " 285: 'yourself',\n",
       " 286: 'arent',\n",
       " 287: 'called',\n",
       " 288: 'tomorrow',\n",
       " 289: 'liked',\n",
       " 290: 'little',\n",
       " 291: 'sad',\n",
       " 292: 'looked',\n",
       " 293: 'use',\n",
       " 294: 'early',\n",
       " 295: 'bring',\n",
       " 296: 'sat',\n",
       " 297: 'stupid',\n",
       " 298: 'upset',\n",
       " 299: 'any',\n",
       " 300: 'almost',\n",
       " 301: 'pretty',\n",
       " 302: 'from',\n",
       " 303: 'mean',\n",
       " 304: 'bit',\n",
       " 305: 'afraid',\n",
       " 306: 'ran',\n",
       " 307: 'sing',\n",
       " 308: 'swim',\n",
       " 309: 'two',\n",
       " 310: 'thanks',\n",
       " 311: 'answer',\n",
       " 312: 'quiet',\n",
       " 313: 'start',\n",
       " 314: 'care',\n",
       " 315: 'those',\n",
       " 316: 'tried',\n",
       " 317: 'walk',\n",
       " 318: 'mother',\n",
       " 319: 'working',\n",
       " 320: 'if',\n",
       " 321: 'move',\n",
       " 322: 'last',\n",
       " 323: 'scared',\n",
       " 324: 'won',\n",
       " 325: 'quit',\n",
       " 326: 'shut',\n",
       " 327: 'free',\n",
       " 328: 'glad',\n",
       " 329: 'soon',\n",
       " 330: 'food',\n",
       " 331: 'beer',\n",
       " 332: 'talking',\n",
       " 333: 'wants',\n",
       " 334: 'drive',\n",
       " 335: 'hot',\n",
       " 336: 'hat',\n",
       " 337: 'lie',\n",
       " 338: 'fine',\n",
       " 339: 'mad',\n",
       " 340: 'kids',\n",
       " 341: 'married',\n",
       " 342: 'outside',\n",
       " 343: 'used',\n",
       " 344: 'lucky',\n",
       " 345: 'shot',\n",
       " 346: 'change',\n",
       " 347: 'weve',\n",
       " 348: 'perfect',\n",
       " 349: 'hows',\n",
       " 350: 'drunk',\n",
       " 351: 'met',\n",
       " 352: 'night',\n",
       " 353: 'changed',\n",
       " 354: 'tall',\n",
       " 355: 'serious',\n",
       " 356: 'study',\n",
       " 357: 'myself',\n",
       " 358: 'coffee',\n",
       " 359: 'check',\n",
       " 360: 'hand',\n",
       " 361: 'fell',\n",
       " 362: 'stand',\n",
       " 363: 'first',\n",
       " 364: 'bought',\n",
       " 365: 'once',\n",
       " 366: 'needs',\n",
       " 367: 'lunch',\n",
       " 368: 'many',\n",
       " 369: 'light',\n",
       " 370: 'handle',\n",
       " 371: 'works',\n",
       " 372: 'seat',\n",
       " 373: 'ate',\n",
       " 374: 'word',\n",
       " 375: 'fired',\n",
       " 376: 'thought',\n",
       " 377: 'quite',\n",
       " 378: 'listen',\n",
       " 379: 'around',\n",
       " 380: 'tea',\n",
       " 381: 'caught',\n",
       " 382: 'key',\n",
       " 383: 'books',\n",
       " 384: 'together',\n",
       " 385: 'hair',\n",
       " 386: 'touch',\n",
       " 387: 'often',\n",
       " 388: 'wish',\n",
       " 389: 'phone',\n",
       " 390: 'wine',\n",
       " 391: 'mind',\n",
       " 392: 'meet',\n",
       " 393: 'next',\n",
       " 394: 'music',\n",
       " 395: 'finished',\n",
       " 396: 'needed',\n",
       " 397: 'plan',\n",
       " 398: 'guy',\n",
       " 399: 'stopped',\n",
       " 400: 'getting',\n",
       " 401: 'fat',\n",
       " 402: 'red',\n",
       " 403: 'tv',\n",
       " 404: 'bus',\n",
       " 405: 'theyll',\n",
       " 406: 'enjoy',\n",
       " 407: 'choice',\n",
       " 408: 'three',\n",
       " 409: 'forgot',\n",
       " 410: 'son',\n",
       " 411: 'rest',\n",
       " 412: 'doctor',\n",
       " 413: 'another',\n",
       " 414: 'sounds',\n",
       " 415: 'place',\n",
       " 416: 'proud',\n",
       " 417: 'write',\n",
       " 418: 'fish',\n",
       " 419: 'maybe',\n",
       " 420: 'father',\n",
       " 421: 'seen',\n",
       " 422: 'someone',\n",
       " 423: 'wife',\n",
       " 424: 'born',\n",
       " 425: 'story',\n",
       " 426: 'paid',\n",
       " 427: 'cool',\n",
       " 428: 'agree',\n",
       " 429: 'kiss',\n",
       " 430: 'hands',\n",
       " 431: 'weird',\n",
       " 432: 'asked',\n",
       " 433: 'naive',\n",
       " 434: 'leaving',\n",
       " 435: 'understand',\n",
       " 436: 'running',\n",
       " 437: 'dinner',\n",
       " 438: 'game',\n",
       " 439: 'dogs',\n",
       " 440: 'clean',\n",
       " 441: 'loved',\n",
       " 442: 'liar',\n",
       " 443: 'reading',\n",
       " 444: 'dream',\n",
       " 445: 'seem',\n",
       " 446: 'hit',\n",
       " 447: 'rich',\n",
       " 448: 'eating',\n",
       " 449: 'nervous',\n",
       " 450: 'quickly',\n",
       " 451: 'boston',\n",
       " 452: 'which',\n",
       " 453: 'into',\n",
       " 454: 'follow',\n",
       " 455: 'luck',\n",
       " 456: 'guess',\n",
       " 457: 'asleep',\n",
       " 458: 'milk',\n",
       " 459: 'happened',\n",
       " 460: 'whose',\n",
       " 461: 'lose',\n",
       " 462: 'such',\n",
       " 463: 'bicycle',\n",
       " 464: 'yesterday',\n",
       " 465: 'wake',\n",
       " 466: 'ahead',\n",
       " 467: 'girl',\n",
       " 468: 'confused',\n",
       " 469: 'else',\n",
       " 470: 'own',\n",
       " 471: 'arrived',\n",
       " 472: 'inside',\n",
       " 473: 'lying',\n",
       " 474: 'missed',\n",
       " 475: 'young',\n",
       " 476: 'nuts',\n",
       " 477: 'crying',\n",
       " 478: 'laughed',\n",
       " 479: 'hates',\n",
       " 480: 'youll',\n",
       " 481: 'couldnt',\n",
       " 482: 'awesome',\n",
       " 483: 'fix',\n",
       " 484: 'helped',\n",
       " 485: 'itll',\n",
       " 486: 'kidding',\n",
       " 487: 'invited',\n",
       " 488: 'gun',\n",
       " 489: 'warned',\n",
       " 490: 'trouble',\n",
       " 491: 'lied',\n",
       " 492: 'kill',\n",
       " 493: 'worked',\n",
       " 494: 'break',\n",
       " 495: 'deal',\n",
       " 496: 'news',\n",
       " 497: 'joke',\n",
       " 498: 'owe',\n",
       " 499: 'surprised',\n",
       " 500: 'than',\n",
       " 501: 'thing',\n",
       " 502: 'drop',\n",
       " 503: 'hold',\n",
       " 504: 'real',\n",
       " 505: 'cute',\n",
       " 506: 'strong',\n",
       " 507: 'cake',\n",
       " 508: 'song',\n",
       " 509: 'might',\n",
       " 510: 'bag',\n",
       " 511: 'things',\n",
       " 512: 'became',\n",
       " 513: 'ones',\n",
       " 514: 'began',\n",
       " 515: 'fire',\n",
       " 516: 'heres',\n",
       " 517: 'alive',\n",
       " 518: 'child',\n",
       " 519: 'excited',\n",
       " 520: 'girls',\n",
       " 521: 'shoes',\n",
       " 522: 'beautiful',\n",
       " 523: 'people',\n",
       " 524: 'youd',\n",
       " 525: 'behind',\n",
       " 526: 'cry',\n",
       " 527: 'far',\n",
       " 528: 'sleepy',\n",
       " 529: 'writing',\n",
       " 530: 'killed',\n",
       " 531: 'or',\n",
       " 532: 'week',\n",
       " 533: 'minute',\n",
       " 534: 'lives',\n",
       " 535: 'spoke',\n",
       " 536: 'cut',\n",
       " 537: 'smart',\n",
       " 538: 'rain',\n",
       " 539: 'same',\n",
       " 540: 'children',\n",
       " 541: 'sister',\n",
       " 542: 'calm',\n",
       " 543: 'head',\n",
       " 544: 'thank',\n",
       " 545: 'box',\n",
       " 546: 'worried',\n",
       " 547: 'happen',\n",
       " 548: 'family',\n",
       " 549: 'fault',\n",
       " 550: 'every',\n",
       " 551: 'sign',\n",
       " 552: 'catch',\n",
       " 553: 'face',\n",
       " 554: 'lonely',\n",
       " 555: 'normal',\n",
       " 556: 'sweet',\n",
       " 557: 'even',\n",
       " 558: 'count',\n",
       " 559: 'broken',\n",
       " 560: 'different',\n",
       " 561: 'turned',\n",
       " 562: 'movie',\n",
       " 563: 'beat',\n",
       " 564: 'guys',\n",
       " 565: 'fight',\n",
       " 566: 'age',\n",
       " 567: 'curious',\n",
       " 568: 'jealous',\n",
       " 569: 'singing',\n",
       " 570: 'small',\n",
       " 571: 'horse',\n",
       " 572: 'sound',\n",
       " 573: 'brave',\n",
       " 574: 'lazy',\n",
       " 575: 'walked',\n",
       " 576: 'trying',\n",
       " 577: 'cats',\n",
       " 578: 'empty',\n",
       " 579: 'coat',\n",
       " 580: 'satisfied',\n",
       " 581: 'smoke',\n",
       " 582: 'after',\n",
       " 583: 'wonderful',\n",
       " 584: 'clever',\n",
       " 585: 'dance',\n",
       " 586: 'pen',\n",
       " 587: 'student',\n",
       " 588: 'danger',\n",
       " 589: 'keys',\n",
       " 590: 'somebody',\n",
       " 591: 'team',\n",
       " 592: 'upstairs',\n",
       " 593: 'boss',\n",
       " 594: 'blame',\n",
       " 595: 'terrible',\n",
       " 596: 'makes',\n",
       " 597: 'watching',\n",
       " 598: 'cried',\n",
       " 599: 'smell',\n",
       " 600: 'prepared',\n",
       " 601: 'heart',\n",
       " 602: 'looking',\n",
       " 603: 'chance',\n",
       " 604: 'betrayed',\n",
       " 605: 'apple',\n",
       " 606: 'fair',\n",
       " 607: 'smiled',\n",
       " 608: 'hurts',\n",
       " 609: 'worry',\n",
       " 610: 'saved',\n",
       " 611: 'shocked',\n",
       " 612: 'sent',\n",
       " 613: 'mom',\n",
       " 614: 'window',\n",
       " 615: 'tie',\n",
       " 616: 'camera',\n",
       " 617: 'bike',\n",
       " 618: 'playing',\n",
       " 619: 'drinking',\n",
       " 620: 'person',\n",
       " 621: 'slow',\n",
       " 622: 'shy',\n",
       " 623: 'drank',\n",
       " 624: 'ride',\n",
       " 625: 'later',\n",
       " 626: 'boat',\n",
       " 627: 'truth',\n",
       " 628: 'baby',\n",
       " 629: 'fit',\n",
       " 630: 'excuse',\n",
       " 631: 'awful',\n",
       " 632: 'dark',\n",
       " 633: 'yes',\n",
       " 634: 'silent',\n",
       " 635: 'list',\n",
       " 636: 'followed',\n",
       " 637: 'closed',\n",
       " 638: 'finally',\n",
       " 639: 'amazing',\n",
       " 640: 'tonight',\n",
       " 641: 'continued',\n",
       " 642: 'hug',\n",
       " 643: 'rude',\n",
       " 644: 'talked',\n",
       " 645: 'warn',\n",
       " 646: 'fly',\n",
       " 647: 'short',\n",
       " 648: 'tough',\n",
       " 649: 'duty',\n",
       " 650: 'wrote',\n",
       " 651: 'joking',\n",
       " 652: 'thirsty',\n",
       " 653: 'party',\n",
       " 654: 'send',\n",
       " 655: 'kissed',\n",
       " 656: 'kid',\n",
       " 657: 'shopping',\n",
       " 658: 'smiling',\n",
       " 659: 'arm',\n",
       " 660: 'polite',\n",
       " 661: 'studying',\n",
       " 662: 'japanese',\n",
       " 663: 'tree',\n",
       " 664: 'town',\n",
       " 665: 'rules',\n",
       " 666: 'mistake',\n",
       " 667: 'expensive',\n",
       " 668: 'their',\n",
       " 669: 'honest',\n",
       " 670: 'cook',\n",
       " 671: 'step',\n",
       " 672: 'waited',\n",
       " 673: 'idiot',\n",
       " 674: 'laugh',\n",
       " 675: 'dancing',\n",
       " 676: 'secret',\n",
       " 677: 'act',\n",
       " 678: 'involved',\n",
       " 679: 'feels',\n",
       " 680: 'english',\n",
       " 681: 'smells',\n",
       " 682: 'nose',\n",
       " 683: 'trusted',\n",
       " 684: 'dangerous',\n",
       " 685: 'high',\n",
       " 686: 'grab',\n",
       " 687: 'failed',\n",
       " 688: 'full',\n",
       " 689: 'tight',\n",
       " 690: 'bored',\n",
       " 691: 'bet',\n",
       " 692: 'snow',\n",
       " 693: 'meat',\n",
       " 694: 'lawyer',\n",
       " 695: 'sleeping',\n",
       " 696: 'decided',\n",
       " 697: 'meant',\n",
       " 698: 'few',\n",
       " 699: 'god',\n",
       " 700: 'comes',\n",
       " 701: 'table',\n",
       " 702: 'oldest',\n",
       " 703: 'students',\n",
       " 704: 'expect',\n",
       " 705: 'daughter',\n",
       " 706: 'clothes',\n",
       " 707: 'other',\n",
       " 708: 'warm',\n",
       " 709: 'moving',\n",
       " 710: 'blue',\n",
       " 711: 'unlucky',\n",
       " 712: 'pain',\n",
       " 713: 'teach',\n",
       " 714: 'explain',\n",
       " 715: 'prefer',\n",
       " 716: 'impatient',\n",
       " 717: 'sense',\n",
       " 718: 'boring',\n",
       " 719: 'possible',\n",
       " 720: 'lock',\n",
       " 721: 'laughing',\n",
       " 722: 'seemed',\n",
       " 723: 'chair',\n",
       " 724: 'having',\n",
       " 725: 'picture',\n",
       " 726: 'trip',\n",
       " 727: 'feeling',\n",
       " 728: 'message',\n",
       " 729: 'opened',\n",
       " 730: 'parents',\n",
       " 731: 'relax',\n",
       " 732: 'hang',\n",
       " 733: 'wise',\n",
       " 734: 'stayed',\n",
       " 735: 'weak',\n",
       " 736: 'save',\n",
       " 737: 'choose',\n",
       " 738: 'relaxed',\n",
       " 739: 'woke',\n",
       " 740: 'dirty',\n",
       " 741: 'cooking',\n",
       " 742: 'shall',\n",
       " 743: 'slowly',\n",
       " 744: 'deserve',\n",
       " 745: 'strange',\n",
       " 746: 'cops',\n",
       " 747: 'exhausted',\n",
       " 748: 'important',\n",
       " 749: 'believed',\n",
       " 750: 'brother',\n",
       " 751: 'wet',\n",
       " 752: 'deep',\n",
       " 753: 'ugly',\n",
       " 754: 'terrific',\n",
       " 755: 'retired',\n",
       " 756: 'awake',\n",
       " 757: 'dying',\n",
       " 758: 'timid',\n",
       " 759: 'ours',\n",
       " 760: 'men',\n",
       " 761: 'ignore',\n",
       " 762: 'winning',\n",
       " 763: 'huge',\n",
       " 764: 'war',\n",
       " 765: 'pizza',\n",
       " 766: 'forward',\n",
       " 767: 'guilty',\n",
       " 768: 'woman',\n",
       " 769: 'talented',\n",
       " 770: 'listening',\n",
       " 771: 'tastes',\n",
       " 772: 'before',\n",
       " 773: 'point',\n",
       " 774: 'travel',\n",
       " 775: 'making',\n",
       " 776: 'order',\n",
       " 777: 'shirt',\n",
       " 778: 'jump',\n",
       " 779: 'begin',\n",
       " 780: 'join',\n",
       " 781: 'push',\n",
       " 782: 'welcome',\n",
       " 783: 'blind',\n",
       " 784: 'then',\n",
       " 785: 'hired',\n",
       " 786: 'patient',\n",
       " 787: 'faster',\n",
       " 788: 'famous',\n",
       " 789: 'skinny',\n",
       " 790: 'apologize',\n",
       " 791: 'set',\n",
       " 792: 'correct',\n",
       " 793: 'driving',\n",
       " 794: 'closer',\n",
       " 795: 'refused',\n",
       " 796: 'says',\n",
       " 797: 'hey',\n",
       " 798: 'map',\n",
       " 799: 'risk',\n",
       " 800: 'feet',\n",
       " 801: 'downstairs',\n",
       " 802: 'shower',\n",
       " 803: 'cannot',\n",
       " 804: 'interested',\n",
       " 805: 'doors',\n",
       " 806: 'train',\n",
       " 807: 'smarter',\n",
       " 808: 'death',\n",
       " 809: 'vote',\n",
       " 810: 'drives',\n",
       " 811: 'boys',\n",
       " 812: 'hated',\n",
       " 813: 'cheated',\n",
       " 814: 'dress',\n",
       " 815: 'slept',\n",
       " 816: 'black',\n",
       " 817: 'white',\n",
       " 818: 'yelling',\n",
       " 819: 'advice',\n",
       " 820: 'prove',\n",
       " 821: 'cup',\n",
       " 822: 'second',\n",
       " 823: 'matter',\n",
       " 824: 'end',\n",
       " 825: 'knife',\n",
       " 826: 'glasses',\n",
       " 827: 'rather',\n",
       " 828: 'each',\n",
       " 829: 'taking',\n",
       " 830: 'longer',\n",
       " 831: 'whatre',\n",
       " 832: 'clear',\n",
       " 833: 'shoot',\n",
       " 834: 'sharp',\n",
       " 835: 'dressed',\n",
       " 836: 'class',\n",
       " 837: 'touched',\n",
       " 838: 'monday',\n",
       " 839: 'date',\n",
       " 840: 'control',\n",
       " 841: 'everyones',\n",
       " 842: 'baked',\n",
       " 843: 'respect',\n",
       " 844: 'depressed',\n",
       " 845: 'near',\n",
       " 846: 'breath',\n",
       " 847: 'waiting',\n",
       " 848: 'brought',\n",
       " 849: 'bill',\n",
       " 850: 'pencil',\n",
       " 851: 'allowed',\n",
       " 852: 'speaks',\n",
       " 853: 'under',\n",
       " 854: 'smile',\n",
       " 855: 'wash',\n",
       " 856: 'beg',\n",
       " 857: 'agreed',\n",
       " 858: 'poor',\n",
       " 859: 'air',\n",
       " 860: 'hero',\n",
       " 861: 'losing',\n",
       " 862: 'eggs',\n",
       " 863: 'fool',\n",
       " 864: 'bite',\n",
       " 865: 'apples',\n",
       " 866: 'smoking',\n",
       " 867: 'clock',\n",
       " 868: 'summer',\n",
       " 869: 'pleased',\n",
       " 870: 'impressed',\n",
       " 871: 'moment',\n",
       " 872: 'throw',\n",
       " 873: 'six',\n",
       " 874: 'park',\n",
       " 875: 'truck',\n",
       " 876: 'escape',\n",
       " 877: 'side',\n",
       " 878: 'hardly',\n",
       " 879: 'charge',\n",
       " 880: 'himself',\n",
       " 881: 'refuse',\n",
       " 882: 'obey',\n",
       " 883: 'naked',\n",
       " 884: 'pardon',\n",
       " 885: 'direct',\n",
       " 886: 'also',\n",
       " 887: 'share',\n",
       " 888: 'cash',\n",
       " 889: 'fake',\n",
       " 890: 'watched',\n",
       " 891: 'mess',\n",
       " 892: 'cruel',\n",
       " 893: 'bird',\n",
       " 894: 'line',\n",
       " 895: 'convinced',\n",
       " 896: 'raining',\n",
       " 897: 'gift',\n",
       " 898: 'worth',\n",
       " 899: 'plays',\n",
       " 900: 'disgusting',\n",
       " 901: 'christmas',\n",
       " 902: 'continue',\n",
       " 903: 'goal',\n",
       " 904: 'ordered',\n",
       " 905: 'bank',\n",
       " 906: 'ago',\n",
       " 907: 'decision',\n",
       " 908: 'ideas',\n",
       " 909: 'cost',\n",
       " 910: 'without',\n",
       " 911: 'breakfast',\n",
       " 912: 'promise',\n",
       " 913: 'forgive',\n",
       " 914: 'built',\n",
       " 915: 'green',\n",
       " 916: 'aside',\n",
       " 917: 'drinks',\n",
       " 918: 'friendly',\n",
       " 919: 'finish',\n",
       " 920: 'stunned',\n",
       " 921: 'trapped',\n",
       " 922: 'grow',\n",
       " 923: 'learn',\n",
       " 924: 'fighting',\n",
       " 925: 'innocent',\n",
       " 926: 'missing',\n",
       " 927: 'law',\n",
       " 928: 'rope',\n",
       " 929: 'survive',\n",
       " 930: 'gets',\n",
       " 931: 'business',\n",
       " 932: 'offer',\n",
       " 933: 'bell',\n",
       " 934: 'ball',\n",
       " 935: 'rid',\n",
       " 936: 'holiday',\n",
       " 937: 'carefully',\n",
       " 938: 'havent',\n",
       " 939: 'tennis',\n",
       " 940: 'totally',\n",
       " 941: 'enemy',\n",
       " 942: 'office',\n",
       " 943: 'mouth',\n",
       " 944: 'protect',\n",
       " 945: 'weight',\n",
       " 946: 'letter',\n",
       " 947: 'recognized',\n",
       " 948: 'hi',\n",
       " 949: 'helps',\n",
       " 950: 'fantastic',\n",
       " 951: 'stuck',\n",
       " 952: 'along',\n",
       " 953: 'pick',\n",
       " 954: 'generous',\n",
       " 955: 'grew',\n",
       " 956: 'locked',\n",
       " 957: 'paper',\n",
       " 958: 'silly',\n",
       " 959: 'plans',\n",
       " 960: 'jokes',\n",
       " 961: 'speaking',\n",
       " 962: 'while',\n",
       " 963: 'unbelievable',\n",
       " 964: 'favor',\n",
       " 965: 'part',\n",
       " 966: 'raise',\n",
       " 967: 'allow',\n",
       " 968: 'helping',\n",
       " 969: 'year',\n",
       " 970: 'lit',\n",
       " 971: 'relieved',\n",
       " 972: 'homework',\n",
       " 973: 'match',\n",
       " 974: 'cautious',\n",
       " 975: 'eye',\n",
       " 976: 'anymore',\n",
       " 977: 'low',\n",
       " 978: 'lovely',\n",
       " 979: 'cheap',\n",
       " 980: 'decide',\n",
       " 981: 'creative',\n",
       " 982: 'chose',\n",
       " 983: 'useless',\n",
       " 984: 'simple',\n",
       " 985: 'bath',\n",
       " 986: 'morning',\n",
       " 987: 'denied',\n",
       " 988: 'horrible',\n",
       " 989: 'ears',\n",
       " 990: 'stole',\n",
       " 991: 'dry',\n",
       " 992: 'foolish',\n",
       " 993: 'fed',\n",
       " 994: 'fever',\n",
       " 995: 'skiing',\n",
       " 996: 'nearly',\n",
       " 997: 'wore',\n",
       " 998: 'ambitious',\n",
       " 999: 'fishing',\n",
       " 1000: 'cookies',\n",
       " ...}"
      ]
     },
     "execution_count": 12,
     "metadata": {},
     "output_type": "execute_result"
    }
   ],
   "source": [
    "eng_tokenizer.index_word"
   ]
  },
  {
   "cell_type": "code",
   "execution_count": 13,
   "id": "6d48f740",
   "metadata": {},
   "outputs": [
    {
     "name": "stdout",
     "output_type": "stream",
     "text": [
      "Deutch Vocabulary Size: 13974\n"
     ]
    }
   ],
   "source": [
    "fra_tokenizer = tokenization(fra_eng[:, 1])\n",
    "fra_vocab_size = len(fra_tokenizer.word_index) + 1\n",
    "\n",
    "fra_length = 8\n",
    "print('Deutch Vocabulary Size: %d' % fra_vocab_size)"
   ]
  },
  {
   "cell_type": "code",
   "execution_count": 15,
   "id": "5f1af6b5",
   "metadata": {},
   "outputs": [],
   "source": [
    "def encode_sequences(tokenizer, length, lines):\n",
    "    seq = tokenizer.texts_to_sequences(lines)\n",
    "    seq = pad_sequences(seq, maxlen=length, padding='post')\n",
    "    return seq"
   ]
  },
  {
   "cell_type": "markdown",
   "id": "90155363",
   "metadata": {},
   "source": [
    "### Model Building"
   ]
  },
  {
   "cell_type": "markdown",
   "id": "d271be96",
   "metadata": {},
   "source": [
    "##### Model Architectue"
   ]
  },
  {
   "cell_type": "code",
   "execution_count": 16,
   "id": "d4945d8f",
   "metadata": {},
   "outputs": [],
   "source": [
    "from sklearn.model_selection import train_test_split\n",
    "\n",
    "train, test = train_test_split(fra_eng, test_size=0.2, random_state = 12)"
   ]
  },
  {
   "cell_type": "code",
   "execution_count": 17,
   "id": "7e903f9f",
   "metadata": {},
   "outputs": [],
   "source": [
    "trainX = encode_sequences(fra_tokenizer, fra_length, train[:, 1])   \n",
    "trainY = encode_sequences(eng_tokenizer, eng_length, train[:, 0])   \n",
    "\n",
    "testX = encode_sequences(fra_tokenizer, fra_length, test[:, 1])\n",
    "testY = encode_sequences(eng_tokenizer, eng_length, test[:, 0])"
   ]
  },
  {
   "cell_type": "code",
   "execution_count": 18,
   "id": "26d446f4",
   "metadata": {},
   "outputs": [
    {
     "data": {
      "text/plain": [
       "array([[ 1159,    25,   627,     0,     0,     0,     0,     0],\n",
       "       [ 7114,   190,  1517,     0,     0,     0,     0,     0],\n",
       "       [    1,     6,    36,   199,   286,     2,     0,     0],\n",
       "       [10909,     0,     0,     0,     0,     0,     0,     0],\n",
       "       [   43,    29,   101,  1574,     0,     0,     0,     0]])"
      ]
     },
     "execution_count": 18,
     "metadata": {},
     "output_type": "execute_result"
    }
   ],
   "source": [
    "trainX[:5]"
   ]
  },
  {
   "cell_type": "markdown",
   "id": "6966c9a0",
   "metadata": {},
   "source": [
    "### Define the Model"
   ]
  },
  {
   "cell_type": "code",
   "execution_count": 19,
   "id": "f1bd9f0c",
   "metadata": {},
   "outputs": [],
   "source": [
    "# build NMT model\n",
    "def define_model(in_vocab,out_vocab, in_timesteps,out_timesteps,units):\n",
    "    # sequential model for seq2seq network\n",
    "    model = Sequential()\n",
    "    # add embedding layer\n",
    "    model.add(Embedding(in_vocab, units, input_length=in_timesteps, mask_zero=True))\n",
    "    # LSTM network\n",
    "    model.add(LSTM(units))\n",
    "    model.add(RepeatVector(out_timesteps))\n",
    "    model.add(LSTM(units, return_sequences=True))\n",
    "    model.add(Dense(out_vocab, activation='softmax'))\n",
    "    return model"
   ]
  },
  {
   "cell_type": "code",
   "execution_count": 20,
   "id": "fe7774f7",
   "metadata": {},
   "outputs": [],
   "source": [
    "# model compilation\n",
    "model = define_model(fra_vocab_size, eng_vocab_size, fra_length, eng_length, 512)"
   ]
  },
  {
   "cell_type": "code",
   "execution_count": 21,
   "id": "6290fb54",
   "metadata": {},
   "outputs": [],
   "source": [
    "rms = optimizers.RMSprop(learning_rate=0.001)\n",
    "model.compile(optimizer=rms, loss='sparse_categorical_crossentropy')"
   ]
  },
  {
   "cell_type": "markdown",
   "id": "67f9237f",
   "metadata": {},
   "source": [
    "### Fit the Model"
   ]
  },
  {
   "cell_type": "code",
   "execution_count": 22,
   "id": "a3dd5f4e",
   "metadata": {},
   "outputs": [],
   "source": [
    "filename = 'seq_2_seq_model'"
   ]
  },
  {
   "cell_type": "code",
   "execution_count": 23,
   "id": "de00fc53",
   "metadata": {},
   "outputs": [
    {
     "name": "stdout",
     "output_type": "stream",
     "text": [
      "Epoch 1/30\n",
      "250/250 [==============================] - ETA: 0s - loss: 3.2934\n",
      "Epoch 1: val_loss improved from inf to 2.83209, saving model to seq_2_seq_model\n"
     ]
    },
    {
     "name": "stderr",
     "output_type": "stream",
     "text": [
      "WARNING:absl:Found untraced functions such as _update_step_xla, lstm_cell_layer_call_fn, lstm_cell_layer_call_and_return_conditional_losses, lstm_cell_1_layer_call_fn, lstm_cell_1_layer_call_and_return_conditional_losses while saving (showing 5 of 5). These functions will not be directly callable after loading.\n"
     ]
    },
    {
     "name": "stdout",
     "output_type": "stream",
     "text": [
      "INFO:tensorflow:Assets written to: seq_2_seq_model\\assets\n"
     ]
    },
    {
     "name": "stderr",
     "output_type": "stream",
     "text": [
      "INFO:tensorflow:Assets written to: seq_2_seq_model\\assets\n"
     ]
    },
    {
     "name": "stdout",
     "output_type": "stream",
     "text": [
      "250/250 [==============================] - 213s 809ms/step - loss: 3.2934 - val_loss: 2.8321\n",
      "Epoch 2/30\n",
      "250/250 [==============================] - ETA: 0s - loss: 2.7893\n",
      "Epoch 2: val_loss improved from 2.83209 to 2.77747, saving model to seq_2_seq_model\n"
     ]
    },
    {
     "name": "stderr",
     "output_type": "stream",
     "text": [
      "WARNING:absl:Found untraced functions such as _update_step_xla, lstm_cell_layer_call_fn, lstm_cell_layer_call_and_return_conditional_losses, lstm_cell_1_layer_call_fn, lstm_cell_1_layer_call_and_return_conditional_losses while saving (showing 5 of 5). These functions will not be directly callable after loading.\n"
     ]
    },
    {
     "name": "stdout",
     "output_type": "stream",
     "text": [
      "INFO:tensorflow:Assets written to: seq_2_seq_model\\assets\n"
     ]
    },
    {
     "name": "stderr",
     "output_type": "stream",
     "text": [
      "INFO:tensorflow:Assets written to: seq_2_seq_model\\assets\n"
     ]
    },
    {
     "name": "stdout",
     "output_type": "stream",
     "text": [
      "250/250 [==============================] - 194s 775ms/step - loss: 2.7893 - val_loss: 2.7775\n",
      "Epoch 3/30\n",
      "250/250 [==============================] - ETA: 0s - loss: 2.7327\n",
      "Epoch 3: val_loss improved from 2.77747 to 2.72237, saving model to seq_2_seq_model\n"
     ]
    },
    {
     "name": "stderr",
     "output_type": "stream",
     "text": [
      "WARNING:absl:Found untraced functions such as _update_step_xla, lstm_cell_layer_call_fn, lstm_cell_layer_call_and_return_conditional_losses, lstm_cell_1_layer_call_fn, lstm_cell_1_layer_call_and_return_conditional_losses while saving (showing 5 of 5). These functions will not be directly callable after loading.\n"
     ]
    },
    {
     "name": "stdout",
     "output_type": "stream",
     "text": [
      "INFO:tensorflow:Assets written to: seq_2_seq_model\\assets\n"
     ]
    },
    {
     "name": "stderr",
     "output_type": "stream",
     "text": [
      "INFO:tensorflow:Assets written to: seq_2_seq_model\\assets\n"
     ]
    },
    {
     "name": "stdout",
     "output_type": "stream",
     "text": [
      "250/250 [==============================] - 194s 776ms/step - loss: 2.7327 - val_loss: 2.7224\n",
      "Epoch 4/30\n",
      "250/250 [==============================] - ETA: 0s - loss: 2.6656\n",
      "Epoch 4: val_loss improved from 2.72237 to 2.67350, saving model to seq_2_seq_model\n"
     ]
    },
    {
     "name": "stderr",
     "output_type": "stream",
     "text": [
      "WARNING:absl:Found untraced functions such as _update_step_xla, lstm_cell_layer_call_fn, lstm_cell_layer_call_and_return_conditional_losses, lstm_cell_1_layer_call_fn, lstm_cell_1_layer_call_and_return_conditional_losses while saving (showing 5 of 5). These functions will not be directly callable after loading.\n"
     ]
    },
    {
     "name": "stdout",
     "output_type": "stream",
     "text": [
      "INFO:tensorflow:Assets written to: seq_2_seq_model\\assets\n"
     ]
    },
    {
     "name": "stderr",
     "output_type": "stream",
     "text": [
      "INFO:tensorflow:Assets written to: seq_2_seq_model\\assets\n"
     ]
    },
    {
     "name": "stdout",
     "output_type": "stream",
     "text": [
      "250/250 [==============================] - 205s 820ms/step - loss: 2.6656 - val_loss: 2.6735\n",
      "Epoch 5/30\n",
      "250/250 [==============================] - ETA: 0s - loss: 2.6040\n",
      "Epoch 5: val_loss improved from 2.67350 to 2.60457, saving model to seq_2_seq_model\n"
     ]
    },
    {
     "name": "stderr",
     "output_type": "stream",
     "text": [
      "WARNING:absl:Found untraced functions such as _update_step_xla, lstm_cell_layer_call_fn, lstm_cell_layer_call_and_return_conditional_losses, lstm_cell_1_layer_call_fn, lstm_cell_1_layer_call_and_return_conditional_losses while saving (showing 5 of 5). These functions will not be directly callable after loading.\n"
     ]
    },
    {
     "name": "stdout",
     "output_type": "stream",
     "text": [
      "INFO:tensorflow:Assets written to: seq_2_seq_model\\assets\n"
     ]
    },
    {
     "name": "stderr",
     "output_type": "stream",
     "text": [
      "INFO:tensorflow:Assets written to: seq_2_seq_model\\assets\n"
     ]
    },
    {
     "name": "stdout",
     "output_type": "stream",
     "text": [
      "250/250 [==============================] - 306s 1s/step - loss: 2.6040 - val_loss: 2.6046\n",
      "Epoch 6/30\n",
      "250/250 [==============================] - ETA: 0s - loss: 2.5506\n",
      "Epoch 6: val_loss improved from 2.60457 to 2.56355, saving model to seq_2_seq_model\n"
     ]
    },
    {
     "name": "stderr",
     "output_type": "stream",
     "text": [
      "WARNING:absl:Found untraced functions such as _update_step_xla, lstm_cell_layer_call_fn, lstm_cell_layer_call_and_return_conditional_losses, lstm_cell_1_layer_call_fn, lstm_cell_1_layer_call_and_return_conditional_losses while saving (showing 5 of 5). These functions will not be directly callable after loading.\n"
     ]
    },
    {
     "name": "stdout",
     "output_type": "stream",
     "text": [
      "INFO:tensorflow:Assets written to: seq_2_seq_model\\assets\n"
     ]
    },
    {
     "name": "stderr",
     "output_type": "stream",
     "text": [
      "INFO:tensorflow:Assets written to: seq_2_seq_model\\assets\n"
     ]
    },
    {
     "name": "stdout",
     "output_type": "stream",
     "text": [
      "250/250 [==============================] - 325s 1s/step - loss: 2.5506 - val_loss: 2.5636\n",
      "Epoch 7/30\n",
      "250/250 [==============================] - ETA: 0s - loss: 2.4988\n",
      "Epoch 7: val_loss improved from 2.56355 to 2.51005, saving model to seq_2_seq_model\n"
     ]
    },
    {
     "name": "stderr",
     "output_type": "stream",
     "text": [
      "WARNING:absl:Found untraced functions such as _update_step_xla, lstm_cell_layer_call_fn, lstm_cell_layer_call_and_return_conditional_losses, lstm_cell_1_layer_call_fn, lstm_cell_1_layer_call_and_return_conditional_losses while saving (showing 5 of 5). These functions will not be directly callable after loading.\n"
     ]
    },
    {
     "name": "stdout",
     "output_type": "stream",
     "text": [
      "INFO:tensorflow:Assets written to: seq_2_seq_model\\assets\n"
     ]
    },
    {
     "name": "stderr",
     "output_type": "stream",
     "text": [
      "INFO:tensorflow:Assets written to: seq_2_seq_model\\assets\n"
     ]
    },
    {
     "name": "stdout",
     "output_type": "stream",
     "text": [
      "250/250 [==============================] - 367s 1s/step - loss: 2.4988 - val_loss: 2.5100\n",
      "Epoch 8/30\n",
      "250/250 [==============================] - ETA: 0s - loss: 2.4351\n",
      "Epoch 8: val_loss improved from 2.51005 to 2.46542, saving model to seq_2_seq_model\n"
     ]
    },
    {
     "name": "stderr",
     "output_type": "stream",
     "text": [
      "WARNING:absl:Found untraced functions such as _update_step_xla, lstm_cell_layer_call_fn, lstm_cell_layer_call_and_return_conditional_losses, lstm_cell_1_layer_call_fn, lstm_cell_1_layer_call_and_return_conditional_losses while saving (showing 5 of 5). These functions will not be directly callable after loading.\n"
     ]
    },
    {
     "name": "stdout",
     "output_type": "stream",
     "text": [
      "INFO:tensorflow:Assets written to: seq_2_seq_model\\assets\n"
     ]
    },
    {
     "name": "stderr",
     "output_type": "stream",
     "text": [
      "INFO:tensorflow:Assets written to: seq_2_seq_model\\assets\n"
     ]
    },
    {
     "name": "stdout",
     "output_type": "stream",
     "text": [
      "250/250 [==============================] - 316s 1s/step - loss: 2.4351 - val_loss: 2.4654\n",
      "Epoch 9/30\n",
      "250/250 [==============================] - ETA: 0s - loss: 2.3738\n",
      "Epoch 9: val_loss improved from 2.46542 to 2.40279, saving model to seq_2_seq_model\n"
     ]
    },
    {
     "name": "stderr",
     "output_type": "stream",
     "text": [
      "WARNING:absl:Found untraced functions such as _update_step_xla, lstm_cell_layer_call_fn, lstm_cell_layer_call_and_return_conditional_losses, lstm_cell_1_layer_call_fn, lstm_cell_1_layer_call_and_return_conditional_losses while saving (showing 5 of 5). These functions will not be directly callable after loading.\n"
     ]
    },
    {
     "name": "stdout",
     "output_type": "stream",
     "text": [
      "INFO:tensorflow:Assets written to: seq_2_seq_model\\assets\n"
     ]
    },
    {
     "name": "stderr",
     "output_type": "stream",
     "text": [
      "INFO:tensorflow:Assets written to: seq_2_seq_model\\assets\n"
     ]
    },
    {
     "name": "stdout",
     "output_type": "stream",
     "text": [
      "250/250 [==============================] - 366s 1s/step - loss: 2.3738 - val_loss: 2.4028\n",
      "Epoch 10/30\n",
      "250/250 [==============================] - ETA: 0s - loss: 2.3062\n",
      "Epoch 10: val_loss improved from 2.40279 to 2.35154, saving model to seq_2_seq_model\n"
     ]
    },
    {
     "name": "stderr",
     "output_type": "stream",
     "text": [
      "WARNING:absl:Found untraced functions such as _update_step_xla, lstm_cell_layer_call_fn, lstm_cell_layer_call_and_return_conditional_losses, lstm_cell_1_layer_call_fn, lstm_cell_1_layer_call_and_return_conditional_losses while saving (showing 5 of 5). These functions will not be directly callable after loading.\n"
     ]
    },
    {
     "name": "stdout",
     "output_type": "stream",
     "text": [
      "INFO:tensorflow:Assets written to: seq_2_seq_model\\assets\n"
     ]
    },
    {
     "name": "stderr",
     "output_type": "stream",
     "text": [
      "INFO:tensorflow:Assets written to: seq_2_seq_model\\assets\n"
     ]
    },
    {
     "name": "stdout",
     "output_type": "stream",
     "text": [
      "250/250 [==============================] - 809s 3s/step - loss: 2.3062 - val_loss: 2.3515\n",
      "Epoch 11/30\n",
      "250/250 [==============================] - ETA: 0s - loss: 2.2359\n",
      "Epoch 11: val_loss improved from 2.35154 to 2.26327, saving model to seq_2_seq_model\n"
     ]
    },
    {
     "name": "stderr",
     "output_type": "stream",
     "text": [
      "WARNING:absl:Found untraced functions such as _update_step_xla, lstm_cell_layer_call_fn, lstm_cell_layer_call_and_return_conditional_losses, lstm_cell_1_layer_call_fn, lstm_cell_1_layer_call_and_return_conditional_losses while saving (showing 5 of 5). These functions will not be directly callable after loading.\n"
     ]
    },
    {
     "name": "stdout",
     "output_type": "stream",
     "text": [
      "INFO:tensorflow:Assets written to: seq_2_seq_model\\assets\n"
     ]
    },
    {
     "name": "stderr",
     "output_type": "stream",
     "text": [
      "INFO:tensorflow:Assets written to: seq_2_seq_model\\assets\n"
     ]
    },
    {
     "name": "stdout",
     "output_type": "stream",
     "text": [
      "250/250 [==============================] - 754s 3s/step - loss: 2.2359 - val_loss: 2.2633\n",
      "Epoch 12/30\n",
      "250/250 [==============================] - ETA: 0s - loss: 2.1663\n",
      "Epoch 12: val_loss improved from 2.26327 to 2.20652, saving model to seq_2_seq_model\n"
     ]
    },
    {
     "name": "stderr",
     "output_type": "stream",
     "text": [
      "WARNING:absl:Found untraced functions such as _update_step_xla, lstm_cell_layer_call_fn, lstm_cell_layer_call_and_return_conditional_losses, lstm_cell_1_layer_call_fn, lstm_cell_1_layer_call_and_return_conditional_losses while saving (showing 5 of 5). These functions will not be directly callable after loading.\n"
     ]
    },
    {
     "name": "stdout",
     "output_type": "stream",
     "text": [
      "INFO:tensorflow:Assets written to: seq_2_seq_model\\assets\n"
     ]
    },
    {
     "name": "stderr",
     "output_type": "stream",
     "text": [
      "INFO:tensorflow:Assets written to: seq_2_seq_model\\assets\n"
     ]
    },
    {
     "name": "stdout",
     "output_type": "stream",
     "text": [
      "250/250 [==============================] - 749s 3s/step - loss: 2.1663 - val_loss: 2.2065\n",
      "Epoch 13/30\n",
      "250/250 [==============================] - ETA: 0s - loss: 2.0973\n",
      "Epoch 13: val_loss improved from 2.20652 to 2.16819, saving model to seq_2_seq_model\n"
     ]
    },
    {
     "name": "stderr",
     "output_type": "stream",
     "text": [
      "WARNING:absl:Found untraced functions such as _update_step_xla, lstm_cell_layer_call_fn, lstm_cell_layer_call_and_return_conditional_losses, lstm_cell_1_layer_call_fn, lstm_cell_1_layer_call_and_return_conditional_losses while saving (showing 5 of 5). These functions will not be directly callable after loading.\n"
     ]
    },
    {
     "name": "stdout",
     "output_type": "stream",
     "text": [
      "INFO:tensorflow:Assets written to: seq_2_seq_model\\assets\n"
     ]
    },
    {
     "name": "stderr",
     "output_type": "stream",
     "text": [
      "INFO:tensorflow:Assets written to: seq_2_seq_model\\assets\n"
     ]
    },
    {
     "name": "stdout",
     "output_type": "stream",
     "text": [
      "250/250 [==============================] - 805s 3s/step - loss: 2.0973 - val_loss: 2.1682\n",
      "Epoch 14/30\n",
      "250/250 [==============================] - ETA: 0s - loss: 2.0331\n",
      "Epoch 14: val_loss improved from 2.16819 to 2.11054, saving model to seq_2_seq_model\n"
     ]
    },
    {
     "name": "stderr",
     "output_type": "stream",
     "text": [
      "WARNING:absl:Found untraced functions such as _update_step_xla, lstm_cell_layer_call_fn, lstm_cell_layer_call_and_return_conditional_losses, lstm_cell_1_layer_call_fn, lstm_cell_1_layer_call_and_return_conditional_losses while saving (showing 5 of 5). These functions will not be directly callable after loading.\n"
     ]
    },
    {
     "name": "stdout",
     "output_type": "stream",
     "text": [
      "INFO:tensorflow:Assets written to: seq_2_seq_model\\assets\n"
     ]
    },
    {
     "name": "stderr",
     "output_type": "stream",
     "text": [
      "INFO:tensorflow:Assets written to: seq_2_seq_model\\assets\n"
     ]
    },
    {
     "name": "stdout",
     "output_type": "stream",
     "text": [
      "250/250 [==============================] - 783s 3s/step - loss: 2.0331 - val_loss: 2.1105\n",
      "Epoch 15/30\n",
      "250/250 [==============================] - ETA: 0s - loss: 1.9733\n",
      "Epoch 15: val_loss improved from 2.11054 to 2.06986, saving model to seq_2_seq_model\n"
     ]
    },
    {
     "name": "stderr",
     "output_type": "stream",
     "text": [
      "WARNING:absl:Found untraced functions such as _update_step_xla, lstm_cell_layer_call_fn, lstm_cell_layer_call_and_return_conditional_losses, lstm_cell_1_layer_call_fn, lstm_cell_1_layer_call_and_return_conditional_losses while saving (showing 5 of 5). These functions will not be directly callable after loading.\n"
     ]
    },
    {
     "name": "stdout",
     "output_type": "stream",
     "text": [
      "INFO:tensorflow:Assets written to: seq_2_seq_model\\assets\n"
     ]
    },
    {
     "name": "stderr",
     "output_type": "stream",
     "text": [
      "INFO:tensorflow:Assets written to: seq_2_seq_model\\assets\n"
     ]
    },
    {
     "name": "stdout",
     "output_type": "stream",
     "text": [
      "250/250 [==============================] - 1268s 5s/step - loss: 1.9733 - val_loss: 2.0699\n",
      "Epoch 16/30\n",
      "250/250 [==============================] - ETA: 0s - loss: 1.9153\n",
      "Epoch 16: val_loss improved from 2.06986 to 2.00448, saving model to seq_2_seq_model\n"
     ]
    },
    {
     "name": "stderr",
     "output_type": "stream",
     "text": [
      "WARNING:absl:Found untraced functions such as _update_step_xla, lstm_cell_layer_call_fn, lstm_cell_layer_call_and_return_conditional_losses, lstm_cell_1_layer_call_fn, lstm_cell_1_layer_call_and_return_conditional_losses while saving (showing 5 of 5). These functions will not be directly callable after loading.\n"
     ]
    },
    {
     "name": "stdout",
     "output_type": "stream",
     "text": [
      "INFO:tensorflow:Assets written to: seq_2_seq_model\\assets\n"
     ]
    },
    {
     "name": "stderr",
     "output_type": "stream",
     "text": [
      "INFO:tensorflow:Assets written to: seq_2_seq_model\\assets\n"
     ]
    },
    {
     "name": "stdout",
     "output_type": "stream",
     "text": [
      "250/250 [==============================] - 785s 3s/step - loss: 1.9153 - val_loss: 2.0045\n",
      "Epoch 17/30\n",
      "250/250 [==============================] - ETA: 0s - loss: 1.8587\n",
      "Epoch 17: val_loss improved from 2.00448 to 1.97725, saving model to seq_2_seq_model\n"
     ]
    },
    {
     "name": "stderr",
     "output_type": "stream",
     "text": [
      "WARNING:absl:Found untraced functions such as _update_step_xla, lstm_cell_layer_call_fn, lstm_cell_layer_call_and_return_conditional_losses, lstm_cell_1_layer_call_fn, lstm_cell_1_layer_call_and_return_conditional_losses while saving (showing 5 of 5). These functions will not be directly callable after loading.\n"
     ]
    },
    {
     "name": "stdout",
     "output_type": "stream",
     "text": [
      "INFO:tensorflow:Assets written to: seq_2_seq_model\\assets\n"
     ]
    },
    {
     "name": "stderr",
     "output_type": "stream",
     "text": [
      "INFO:tensorflow:Assets written to: seq_2_seq_model\\assets\n"
     ]
    },
    {
     "name": "stdout",
     "output_type": "stream",
     "text": [
      "250/250 [==============================] - 1095s 4s/step - loss: 1.8587 - val_loss: 1.9773\n",
      "Epoch 18/30\n",
      "250/250 [==============================] - ETA: 0s - loss: 1.8043\n",
      "Epoch 18: val_loss improved from 1.97725 to 1.92089, saving model to seq_2_seq_model\n"
     ]
    },
    {
     "name": "stderr",
     "output_type": "stream",
     "text": [
      "WARNING:absl:Found untraced functions such as _update_step_xla, lstm_cell_layer_call_fn, lstm_cell_layer_call_and_return_conditional_losses, lstm_cell_1_layer_call_fn, lstm_cell_1_layer_call_and_return_conditional_losses while saving (showing 5 of 5). These functions will not be directly callable after loading.\n"
     ]
    },
    {
     "name": "stdout",
     "output_type": "stream",
     "text": [
      "INFO:tensorflow:Assets written to: seq_2_seq_model\\assets\n"
     ]
    },
    {
     "name": "stderr",
     "output_type": "stream",
     "text": [
      "INFO:tensorflow:Assets written to: seq_2_seq_model\\assets\n"
     ]
    },
    {
     "name": "stdout",
     "output_type": "stream",
     "text": [
      "250/250 [==============================] - 1136s 5s/step - loss: 1.8043 - val_loss: 1.9209\n",
      "Epoch 19/30\n",
      "250/250 [==============================] - ETA: 0s - loss: 1.7517\n",
      "Epoch 19: val_loss improved from 1.92089 to 1.89690, saving model to seq_2_seq_model\n"
     ]
    },
    {
     "name": "stderr",
     "output_type": "stream",
     "text": [
      "WARNING:absl:Found untraced functions such as _update_step_xla, lstm_cell_layer_call_fn, lstm_cell_layer_call_and_return_conditional_losses, lstm_cell_1_layer_call_fn, lstm_cell_1_layer_call_and_return_conditional_losses while saving (showing 5 of 5). These functions will not be directly callable after loading.\n"
     ]
    },
    {
     "name": "stdout",
     "output_type": "stream",
     "text": [
      "INFO:tensorflow:Assets written to: seq_2_seq_model\\assets\n"
     ]
    },
    {
     "name": "stderr",
     "output_type": "stream",
     "text": [
      "INFO:tensorflow:Assets written to: seq_2_seq_model\\assets\n"
     ]
    },
    {
     "name": "stdout",
     "output_type": "stream",
     "text": [
      "250/250 [==============================] - 841s 3s/step - loss: 1.7517 - val_loss: 1.8969\n",
      "Epoch 20/30\n",
      "250/250 [==============================] - ETA: 0s - loss: 1.6989\n",
      "Epoch 20: val_loss improved from 1.89690 to 1.86447, saving model to seq_2_seq_model\n"
     ]
    },
    {
     "name": "stderr",
     "output_type": "stream",
     "text": [
      "WARNING:absl:Found untraced functions such as _update_step_xla, lstm_cell_layer_call_fn, lstm_cell_layer_call_and_return_conditional_losses, lstm_cell_1_layer_call_fn, lstm_cell_1_layer_call_and_return_conditional_losses while saving (showing 5 of 5). These functions will not be directly callable after loading.\n"
     ]
    },
    {
     "name": "stdout",
     "output_type": "stream",
     "text": [
      "INFO:tensorflow:Assets written to: seq_2_seq_model\\assets\n"
     ]
    },
    {
     "name": "stderr",
     "output_type": "stream",
     "text": [
      "INFO:tensorflow:Assets written to: seq_2_seq_model\\assets\n"
     ]
    },
    {
     "name": "stdout",
     "output_type": "stream",
     "text": [
      "250/250 [==============================] - 966s 4s/step - loss: 1.6989 - val_loss: 1.8645\n",
      "Epoch 21/30\n",
      "250/250 [==============================] - ETA: 0s - loss: 1.6494\n",
      "Epoch 21: val_loss improved from 1.86447 to 1.82312, saving model to seq_2_seq_model\n"
     ]
    },
    {
     "name": "stderr",
     "output_type": "stream",
     "text": [
      "WARNING:absl:Found untraced functions such as _update_step_xla, lstm_cell_layer_call_fn, lstm_cell_layer_call_and_return_conditional_losses, lstm_cell_1_layer_call_fn, lstm_cell_1_layer_call_and_return_conditional_losses while saving (showing 5 of 5). These functions will not be directly callable after loading.\n"
     ]
    },
    {
     "name": "stdout",
     "output_type": "stream",
     "text": [
      "INFO:tensorflow:Assets written to: seq_2_seq_model\\assets\n"
     ]
    },
    {
     "name": "stderr",
     "output_type": "stream",
     "text": [
      "INFO:tensorflow:Assets written to: seq_2_seq_model\\assets\n"
     ]
    },
    {
     "name": "stdout",
     "output_type": "stream",
     "text": [
      "250/250 [==============================] - 761s 3s/step - loss: 1.6494 - val_loss: 1.8231\n",
      "Epoch 22/30\n",
      "250/250 [==============================] - ETA: 0s - loss: 1.5994\n",
      "Epoch 22: val_loss improved from 1.82312 to 1.79782, saving model to seq_2_seq_model\n"
     ]
    },
    {
     "name": "stderr",
     "output_type": "stream",
     "text": [
      "WARNING:absl:Found untraced functions such as _update_step_xla, lstm_cell_layer_call_fn, lstm_cell_layer_call_and_return_conditional_losses, lstm_cell_1_layer_call_fn, lstm_cell_1_layer_call_and_return_conditional_losses while saving (showing 5 of 5). These functions will not be directly callable after loading.\n"
     ]
    },
    {
     "name": "stdout",
     "output_type": "stream",
     "text": [
      "INFO:tensorflow:Assets written to: seq_2_seq_model\\assets\n"
     ]
    },
    {
     "name": "stderr",
     "output_type": "stream",
     "text": [
      "INFO:tensorflow:Assets written to: seq_2_seq_model\\assets\n"
     ]
    },
    {
     "name": "stdout",
     "output_type": "stream",
     "text": [
      "250/250 [==============================] - 681s 3s/step - loss: 1.5994 - val_loss: 1.7978\n",
      "Epoch 23/30\n",
      "250/250 [==============================] - ETA: 0s - loss: 1.5531\n",
      "Epoch 23: val_loss improved from 1.79782 to 1.76367, saving model to seq_2_seq_model\n"
     ]
    },
    {
     "name": "stderr",
     "output_type": "stream",
     "text": [
      "WARNING:absl:Found untraced functions such as _update_step_xla, lstm_cell_layer_call_fn, lstm_cell_layer_call_and_return_conditional_losses, lstm_cell_1_layer_call_fn, lstm_cell_1_layer_call_and_return_conditional_losses while saving (showing 5 of 5). These functions will not be directly callable after loading.\n"
     ]
    },
    {
     "name": "stdout",
     "output_type": "stream",
     "text": [
      "INFO:tensorflow:Assets written to: seq_2_seq_model\\assets\n"
     ]
    },
    {
     "name": "stderr",
     "output_type": "stream",
     "text": [
      "INFO:tensorflow:Assets written to: seq_2_seq_model\\assets\n"
     ]
    },
    {
     "name": "stdout",
     "output_type": "stream",
     "text": [
      "250/250 [==============================] - 356s 1s/step - loss: 1.5531 - val_loss: 1.7637\n",
      "Epoch 24/30\n",
      "250/250 [==============================] - ETA: 0s - loss: 1.5071\n",
      "Epoch 24: val_loss improved from 1.76367 to 1.73848, saving model to seq_2_seq_model\n"
     ]
    },
    {
     "name": "stderr",
     "output_type": "stream",
     "text": [
      "WARNING:absl:Found untraced functions such as _update_step_xla, lstm_cell_layer_call_fn, lstm_cell_layer_call_and_return_conditional_losses, lstm_cell_1_layer_call_fn, lstm_cell_1_layer_call_and_return_conditional_losses while saving (showing 5 of 5). These functions will not be directly callable after loading.\n"
     ]
    },
    {
     "name": "stdout",
     "output_type": "stream",
     "text": [
      "INFO:tensorflow:Assets written to: seq_2_seq_model\\assets\n"
     ]
    },
    {
     "name": "stderr",
     "output_type": "stream",
     "text": [
      "INFO:tensorflow:Assets written to: seq_2_seq_model\\assets\n"
     ]
    },
    {
     "name": "stdout",
     "output_type": "stream",
     "text": [
      "250/250 [==============================] - 415s 2s/step - loss: 1.5071 - val_loss: 1.7385\n",
      "Epoch 25/30\n",
      "250/250 [==============================] - ETA: 0s - loss: 1.4643\n",
      "Epoch 25: val_loss improved from 1.73848 to 1.70915, saving model to seq_2_seq_model\n"
     ]
    },
    {
     "name": "stderr",
     "output_type": "stream",
     "text": [
      "WARNING:absl:Found untraced functions such as _update_step_xla, lstm_cell_layer_call_fn, lstm_cell_layer_call_and_return_conditional_losses, lstm_cell_1_layer_call_fn, lstm_cell_1_layer_call_and_return_conditional_losses while saving (showing 5 of 5). These functions will not be directly callable after loading.\n"
     ]
    },
    {
     "name": "stdout",
     "output_type": "stream",
     "text": [
      "INFO:tensorflow:Assets written to: seq_2_seq_model\\assets\n"
     ]
    },
    {
     "name": "stderr",
     "output_type": "stream",
     "text": [
      "INFO:tensorflow:Assets written to: seq_2_seq_model\\assets\n"
     ]
    },
    {
     "name": "stdout",
     "output_type": "stream",
     "text": [
      "250/250 [==============================] - 415s 2s/step - loss: 1.4643 - val_loss: 1.7092\n",
      "Epoch 26/30\n",
      "250/250 [==============================] - ETA: 0s - loss: 1.4218\n",
      "Epoch 26: val_loss improved from 1.70915 to 1.68892, saving model to seq_2_seq_model\n"
     ]
    },
    {
     "name": "stderr",
     "output_type": "stream",
     "text": [
      "WARNING:absl:Found untraced functions such as _update_step_xla, lstm_cell_layer_call_fn, lstm_cell_layer_call_and_return_conditional_losses, lstm_cell_1_layer_call_fn, lstm_cell_1_layer_call_and_return_conditional_losses while saving (showing 5 of 5). These functions will not be directly callable after loading.\n"
     ]
    },
    {
     "name": "stdout",
     "output_type": "stream",
     "text": [
      "INFO:tensorflow:Assets written to: seq_2_seq_model\\assets\n"
     ]
    },
    {
     "name": "stderr",
     "output_type": "stream",
     "text": [
      "INFO:tensorflow:Assets written to: seq_2_seq_model\\assets\n"
     ]
    },
    {
     "name": "stdout",
     "output_type": "stream",
     "text": [
      "250/250 [==============================] - 432s 2s/step - loss: 1.4218 - val_loss: 1.6889\n",
      "Epoch 27/30\n",
      "250/250 [==============================] - ETA: 0s - loss: 1.3810\n",
      "Epoch 27: val_loss improved from 1.68892 to 1.67341, saving model to seq_2_seq_model\n"
     ]
    },
    {
     "name": "stderr",
     "output_type": "stream",
     "text": [
      "WARNING:absl:Found untraced functions such as _update_step_xla, lstm_cell_layer_call_fn, lstm_cell_layer_call_and_return_conditional_losses, lstm_cell_1_layer_call_fn, lstm_cell_1_layer_call_and_return_conditional_losses while saving (showing 5 of 5). These functions will not be directly callable after loading.\n"
     ]
    },
    {
     "name": "stdout",
     "output_type": "stream",
     "text": [
      "INFO:tensorflow:Assets written to: seq_2_seq_model\\assets\n"
     ]
    },
    {
     "name": "stderr",
     "output_type": "stream",
     "text": [
      "INFO:tensorflow:Assets written to: seq_2_seq_model\\assets\n"
     ]
    },
    {
     "name": "stdout",
     "output_type": "stream",
     "text": [
      "250/250 [==============================] - 433s 2s/step - loss: 1.3810 - val_loss: 1.6734\n",
      "Epoch 28/30\n",
      "250/250 [==============================] - ETA: 0s - loss: 1.3394\n",
      "Epoch 28: val_loss improved from 1.67341 to 1.64248, saving model to seq_2_seq_model\n"
     ]
    },
    {
     "name": "stderr",
     "output_type": "stream",
     "text": [
      "WARNING:absl:Found untraced functions such as _update_step_xla, lstm_cell_layer_call_fn, lstm_cell_layer_call_and_return_conditional_losses, lstm_cell_1_layer_call_fn, lstm_cell_1_layer_call_and_return_conditional_losses while saving (showing 5 of 5). These functions will not be directly callable after loading.\n"
     ]
    },
    {
     "name": "stdout",
     "output_type": "stream",
     "text": [
      "INFO:tensorflow:Assets written to: seq_2_seq_model\\assets\n"
     ]
    },
    {
     "name": "stderr",
     "output_type": "stream",
     "text": [
      "INFO:tensorflow:Assets written to: seq_2_seq_model\\assets\n"
     ]
    },
    {
     "name": "stdout",
     "output_type": "stream",
     "text": [
      "250/250 [==============================] - 439s 2s/step - loss: 1.3394 - val_loss: 1.6425\n",
      "Epoch 29/30\n",
      "250/250 [==============================] - ETA: 0s - loss: 1.3010\n",
      "Epoch 29: val_loss improved from 1.64248 to 1.61861, saving model to seq_2_seq_model\n"
     ]
    },
    {
     "name": "stderr",
     "output_type": "stream",
     "text": [
      "WARNING:absl:Found untraced functions such as _update_step_xla, lstm_cell_layer_call_fn, lstm_cell_layer_call_and_return_conditional_losses, lstm_cell_1_layer_call_fn, lstm_cell_1_layer_call_and_return_conditional_losses while saving (showing 5 of 5). These functions will not be directly callable after loading.\n"
     ]
    },
    {
     "name": "stdout",
     "output_type": "stream",
     "text": [
      "INFO:tensorflow:Assets written to: seq_2_seq_model\\assets\n"
     ]
    },
    {
     "name": "stderr",
     "output_type": "stream",
     "text": [
      "INFO:tensorflow:Assets written to: seq_2_seq_model\\assets\n"
     ]
    },
    {
     "name": "stdout",
     "output_type": "stream",
     "text": [
      "250/250 [==============================] - 464s 2s/step - loss: 1.3010 - val_loss: 1.6186\n",
      "Epoch 30/30\n",
      "250/250 [==============================] - ETA: 0s - loss: 1.2617\n",
      "Epoch 30: val_loss improved from 1.61861 to 1.59952, saving model to seq_2_seq_model\n"
     ]
    },
    {
     "name": "stderr",
     "output_type": "stream",
     "text": [
      "WARNING:absl:Found untraced functions such as _update_step_xla, lstm_cell_layer_call_fn, lstm_cell_layer_call_and_return_conditional_losses, lstm_cell_1_layer_call_fn, lstm_cell_1_layer_call_and_return_conditional_losses while saving (showing 5 of 5). These functions will not be directly callable after loading.\n"
     ]
    },
    {
     "name": "stdout",
     "output_type": "stream",
     "text": [
      "INFO:tensorflow:Assets written to: seq_2_seq_model\\assets\n"
     ]
    },
    {
     "name": "stderr",
     "output_type": "stream",
     "text": [
      "INFO:tensorflow:Assets written to: seq_2_seq_model\\assets\n"
     ]
    },
    {
     "name": "stdout",
     "output_type": "stream",
     "text": [
      "\b\b\b\b\b\b\b\b\b\b\b\b\b\b\b\b\b\b\b\b\b\b\b\b\b\b\b\b\b\b\b\b\b\b\b\b\b\b\b\b\b\b\b\b\b\b\b\b\b\b\b\b\b\b\b\b\b\b\b\b\b\b\b\b\b\r",
      "250/250 [==============================] - 436s 2s/step - loss: 1.2617 - val_loss: 1.5995\n"
     ]
    }
   ],
   "source": [
    "checkpoint = ModelCheckpoint(filename, monitor='val_loss', verbose=1, save_best_only=True, mode='min')\n",
    "\n",
    "# train model\n",
    "history = model.fit(trainX, trainY.reshape(trainY.shape[0], trainY.shape[1], 1),\n",
    "                    epochs=30, batch_size=128, validation_split = 0.2,callbacks=[checkpoint], \n",
    "                    verbose=1)"
   ]
  },
  {
   "cell_type": "code",
   "execution_count": 24,
   "id": "60f2fad2",
   "metadata": {},
   "outputs": [
    {
     "data": {
      "image/png": "[encoded data removed]",
      "text/plain": [
       "<Figure size 576x432 with 1 Axes>"
      ]
     },
     "metadata": {
      "needs_background": "light"
     },
     "output_type": "display_data"
    }
   ],
   "source": [
    "plt.figure(figsize=(8,6))\n",
    "plt.plot(history.history['loss'])\n",
    "plt.plot(history.history['val_loss'])\n",
    "plt.legend(['training loss','validation loss'])\n",
    "plt.grid()\n",
    "plt.title(\"Loss vs epochs\",fontsize=16)\n",
    "plt.show()"
   ]
  },
  {
   "cell_type": "markdown",
   "id": "40158c3d",
   "metadata": {},
   "source": [
    "### Prediction on unseen data"
   ]
  },
  {
   "cell_type": "code",
   "execution_count": 25,
   "id": "93bf76a6",
   "metadata": {},
   "outputs": [],
   "source": [
    "model = load_model(filename)"
   ]
  },
  {
   "cell_type": "code",
   "execution_count": 26,
   "id": "4cd0b84c",
   "metadata": {},
   "outputs": [
    {
     "name": "stdout",
     "output_type": "stream",
     "text": [
      "Model: \"sequential\"\n",
      "_________________________________________________________________\n",
      " Layer (type)                Output Shape              Param #   \n",
      "=================================================================\n",
      " embedding (Embedding)       (None, 8, 512)            7154688   \n",
      "                                                                 \n",
      " lstm (LSTM)                 (None, 512)               2099200   \n",
      "                                                                 \n",
      " repeat_vector (RepeatVector  (None, 8, 512)           0         \n",
      " )                                                               \n",
      "                                                                 \n",
      " lstm_1 (LSTM)               (None, 8, 512)            2099200   \n",
      "                                                                 \n",
      " dense (Dense)               (None, 8, 6042)           3099546   \n",
      "                                                                 \n",
      "=================================================================\n",
      "Total params: 14,452,634\n",
      "Trainable params: 14,452,634\n",
      "Non-trainable params: 0\n",
      "_________________________________________________________________\n"
     ]
    }
   ],
   "source": [
    "model.summary()"
   ]
  },
  {
   "cell_type": "code",
   "execution_count": 27,
   "id": "5f8d1637",
   "metadata": {},
   "outputs": [
    {
     "name": "stdout",
     "output_type": "stream",
     "text": [
      "8/8 [==============================] - 7s 229ms/step\n"
     ]
    }
   ],
   "source": [
    "preds = model.predict(testX.reshape((testX.shape[0],testX.shape[1]))[:1024,:],batch_size=128)"
   ]
  },
  {
   "cell_type": "code",
   "execution_count": 28,
   "id": "8281b364",
   "metadata": {},
   "outputs": [],
   "source": [
    "preds = preds.argmax(axis=2)"
   ]
  },
  {
   "cell_type": "code",
   "execution_count": 29,
   "id": "158c48d4",
   "metadata": {},
   "outputs": [],
   "source": [
    "def get_word(n, tokenizer):\n",
    "    for word, index in tokenizer.word_index.items():\n",
    "        if index == n:\n",
    "            return word\n",
    "    return None"
   ]
  },
  {
   "cell_type": "code",
   "execution_count": 30,
   "id": "50a74bac",
   "metadata": {},
   "outputs": [],
   "source": [
    "preds_text = []\n",
    "for i in preds:\n",
    "    temp = []\n",
    "    for j in range(len(i)):\n",
    "        t = get_word(i[j], eng_tokenizer)\n",
    "        if j > 0:\n",
    "            if (t == get_word(i[j-1], eng_tokenizer)) or (t == None):\n",
    "                temp.append('')\n",
    "            else:\n",
    "                temp.append(t)\n",
    "        else:\n",
    "            if(t == None):\n",
    "                temp.append('')\n",
    "            else:\n",
    "                temp.append(t) \n",
    "\n",
    "    preds_text.append(' '.join(temp))"
   ]
  },
  {
   "cell_type": "code",
   "execution_count": null,
   "id": "8898c8cc",
   "metadata": {},
   "outputs": [],
   "source": []
  }
 ],
 "metadata": {
  "kernelspec": {
   "display_name": "Python 3 (ipykernel)",
   "language": "python",
   "name": "python3"
  },
  "language_info": {
   "codemirror_mode": {
    "name": "ipython",
    "version": 3
   },
   "file_extension": ".py",
   "mimetype": "text/x-python",
   "name": "python",
   "nbconvert_exporter": "python",
   "pygments_lexer": "ipython3",
   "version": "3.9.12"
  }
 },
 "nbformat": 4,
 "nbformat_minor": 5
}
